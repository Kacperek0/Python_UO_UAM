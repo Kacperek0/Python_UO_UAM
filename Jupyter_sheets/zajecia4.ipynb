{
 "cells": [
  {
   "cell_type": "markdown",
   "metadata": {},
   "source": [
    "<h2 style=\"color: darkgreen\">Operacje na plikach</h2>"
   ]
  },
  {
   "cell_type": "markdown",
   "metadata": {},
   "source": [
    "Aby pracować na dowolnym pliku musimy podać do niego ścieżkę - miejsce, gdzie plik jest zapisany. W zależności od naszego systemu, format tej ścieżki będzie się różnił.\n",
    "Ścieżka absolutna (bezwzględna):"
   ]
  },
  {
   "cell_type": "code",
   "execution_count": null,
   "metadata": {},
   "outputs": [],
   "source": [
    "#Windows:  C:\\\\Users\\\\jan.kowalski\\\\Desktop\\\\index.html\n",
    "#Linux:    /home/jan.kowalski/Desktop/index.html"
   ]
  },
  {
   "cell_type": "markdown",
   "metadata": {},
   "source": [
    "Ścieżka relatywna (względna) - ścieżka podawana w odniesieniu do folderu, w którym się znajdujemy (lub w którym znajduje się uruchomiony skrypt/otworzony plik HTML). Będąc w folderze jan.kowalski możemy odnieść się do pliku index.html w następujący sposób:"
   ]
  },
  {
   "cell_type": "code",
   "execution_count": 1,
   "metadata": {},
   "outputs": [],
   "source": [
    "#Windows   Desktop\\index.html\n",
    "#Linux     Desktop/index.html"
   ]
  },
  {
   "cell_type": "markdown",
   "metadata": {},
   "source": [
    "Obiekty otwieramy za pomocą funkcji <b>open()</b>. Przyjmuje ona przynajmniej jeden argument - ścieżkę do pliku (relatywną lub absolutną) i zwraca obiekt pliku, np."
   ]
  },
  {
   "cell_type": "code",
   "execution_count": 3,
   "metadata": {},
   "outputs": [],
   "source": [
    "fl = open(\"/Users/kacper.szczepanek/Documents/Python/Python_UO_UAM/Jupyter_sheets/cwiczenia.txt\")"
   ]
  },
  {
   "cell_type": "markdown",
   "metadata": {},
   "source": [
    "A zamykamy za pomocą metody <b>.close()</b>. Takie sprzątanie po sobie jest <b>bardzo, bardzo</b> ważne."
   ]
  },
  {
   "cell_type": "code",
   "execution_count": 4,
   "metadata": {},
   "outputs": [],
   "source": [
    "fl.close()"
   ]
  },
  {
   "cell_type": "markdown",
   "metadata": {},
   "source": [
    "Dodatkowy parametr do funkcji <b>open()</b> to tryb, w jakim chcemy otworzyć plik:"
   ]
  },
  {
   "cell_type": "code",
   "execution_count": 5,
   "metadata": {},
   "outputs": [
    {
     "ename": "FileNotFoundError",
     "evalue": "[Errno 2] No such file or directory: 'a.txt'",
     "output_type": "error",
     "traceback": [
      "\u001b[0;31m---------------------------------------------------------------------------\u001b[0m",
      "\u001b[0;31mFileNotFoundError\u001b[0m                         Traceback (most recent call last)",
      "\u001b[0;32m<ipython-input-5-0b42953e5884>\u001b[0m in \u001b[0;36m<module>\u001b[0;34m\u001b[0m\n\u001b[0;32m----> 1\u001b[0;31m \u001b[0mfl\u001b[0m \u001b[0;34m=\u001b[0m \u001b[0mopen\u001b[0m\u001b[0;34m(\u001b[0m\u001b[0;34m\"a.txt\"\u001b[0m\u001b[0;34m,\u001b[0m \u001b[0;34m'r'\u001b[0m\u001b[0;34m)\u001b[0m \u001b[0;31m#Otwórz w trybie odczytu (r -> read) (domyślny)\u001b[0m\u001b[0;34m\u001b[0m\u001b[0;34m\u001b[0m\u001b[0m\n\u001b[0m\u001b[1;32m      2\u001b[0m \u001b[0mfl\u001b[0m \u001b[0;34m=\u001b[0m \u001b[0mopen\u001b[0m\u001b[0;34m(\u001b[0m\u001b[0;34m\"a.txt\"\u001b[0m\u001b[0;34m,\u001b[0m \u001b[0;34m'w'\u001b[0m\u001b[0;34m)\u001b[0m \u001b[0;31m#Otwórz w trybie zapisu (w -> write) (nadpisuje)\u001b[0m\u001b[0;34m\u001b[0m\u001b[0;34m\u001b[0m\u001b[0m\n\u001b[1;32m      3\u001b[0m \u001b[0mfl\u001b[0m \u001b[0;34m=\u001b[0m \u001b[0mopen\u001b[0m\u001b[0;34m(\u001b[0m\u001b[0;34m\"a.txt\"\u001b[0m\u001b[0;34m,\u001b[0m \u001b[0;34m'a'\u001b[0m\u001b[0;34m)\u001b[0m \u001b[0;31m#Otwórz w trybie zapisu (a -> append) (dopisuje)\u001b[0m\u001b[0;34m\u001b[0m\u001b[0;34m\u001b[0m\u001b[0m\n\u001b[1;32m      4\u001b[0m \u001b[0mfl\u001b[0m \u001b[0;34m=\u001b[0m \u001b[0mopen\u001b[0m\u001b[0;34m(\u001b[0m\u001b[0;34m\"a.txt\"\u001b[0m\u001b[0;34m,\u001b[0m \u001b[0;34m'r+'\u001b[0m\u001b[0;34m)\u001b[0m \u001b[0;31m#Otwórz w trybie odczytu i zapisu (nadpisuje, ale nie usuwa całości)\u001b[0m\u001b[0;34m\u001b[0m\u001b[0;34m\u001b[0m\u001b[0m\n\u001b[1;32m      5\u001b[0m \u001b[0mfl\u001b[0m \u001b[0;34m=\u001b[0m \u001b[0mopen\u001b[0m\u001b[0;34m(\u001b[0m\u001b[0;34m\"a.txt\"\u001b[0m\u001b[0;34m,\u001b[0m \u001b[0;34m'w+'\u001b[0m\u001b[0;34m)\u001b[0m \u001b[0;31m#Otwórz w trybie zapisu + odczytu + stwórz jeśli nie istnieje lub nadpisz istniejący\u001b[0m\u001b[0;34m\u001b[0m\u001b[0;34m\u001b[0m\u001b[0m\n",
      "\u001b[0;31mFileNotFoundError\u001b[0m: [Errno 2] No such file or directory: 'a.txt'"
     ]
    }
   ],
   "source": [
    "fl = open(\"a.txt\", 'r') #Otwórz w trybie odczytu (r -> read) (domyślny)\n",
    "fl = open(\"a.txt\", 'w') #Otwórz w trybie zapisu (w -> write) (nadpisuje)\n",
    "fl = open(\"a.txt\", 'a') #Otwórz w trybie zapisu (a -> append) (dopisuje)\n",
    "fl = open(\"a.txt\", 'r+') #Otwórz w trybie odczytu i zapisu (nadpisuje, ale nie usuwa całości)\n",
    "fl = open(\"a.txt\", 'w+') #Otwórz w trybie zapisu + odczytu + stwórz jeśli nie istnieje lub nadpisz istniejący\n",
    "fl = open(\"a.txt\", 'b') #Otwórz w trybie binarnym (b -> binary) - do otwierania wszystkiego co nie jest tekstem"
   ]
  },
  {
   "cell_type": "code",
   "execution_count": 22,
   "metadata": {},
   "outputs": [
    {
     "name": "stdout",
     "output_type": "stream",
     "text": [
      "['Test\\n', 'Test\\n', 'Test\\n', 'Test\\n', 'Test\\n', 'Test\\n', 'Test\\n', 'Test\\n', 'Test\\n', 'Test\\n']\n",
      "Test\n",
      "Test\n",
      "Test\n",
      "Test\n",
      "Test\n",
      "Test\n",
      "Test\n",
      "Test\n",
      "Test\n",
      "Test\n",
      "zapis\n",
      "zapis2\n",
      "\n"
     ]
    }
   ],
   "source": [
    "out = open(\"test.txt\", 'w')\n",
    "out.write(\"Test\\n\"*10)\n",
    "out.write(\"__________\\n\\n\")\n",
    "\n",
    "test = open(\"test.txt\", 'r+')\n",
    "lines = test.readlines()\n",
    "print(lines)\n",
    "test.write(\"zapis\\n\")\n",
    "test.write(\"zapis2\\n\")\n",
    "\n",
    "test = open(\"test.txt\")\n",
    "lines = test.read()\n",
    "print(lines)"
   ]
  },
  {
   "cell_type": "code",
   "execution_count": 23,
   "metadata": {},
   "outputs": [
    {
     "name": "stdout",
     "output_type": "stream",
     "text": [
      "[]\n",
      "zapis\n",
      "zapis2\n",
      "\n"
     ]
    }
   ],
   "source": [
    "out = open(\"test.txt\", 'w')\n",
    "out.write(\"Test\\n\"*10)\n",
    "\n",
    "test = open(\"test.txt\", 'w+')\n",
    "lines = test.readlines()\n",
    "print(lines)\n",
    "test.write(\"zapis\\n\")\n",
    "test.write(\"zapis2\\n\")\n",
    "\n",
    "test = open(\"test.txt\")\n",
    "lines = test.read()\n",
    "print(lines)"
   ]
  },
  {
   "cell_type": "markdown",
   "metadata": {},
   "source": [
    "Treść pliku po jego otwarciu możemy odczytać za pomocą funkcji <b>read()</b>"
   ]
  },
  {
   "cell_type": "code",
   "execution_count": 24,
   "metadata": {},
   "outputs": [
    {
     "name": "stdout",
     "output_type": "stream",
     "text": [
      "zapis\n",
      "zapis2\n",
      "\n"
     ]
    },
    {
     "ename": "AttributeError",
     "evalue": "'str' object has no attribute 'read'",
     "output_type": "error",
     "traceback": [
      "\u001b[0;31m---------------------------------------------------------------------------\u001b[0m",
      "\u001b[0;31mAttributeError\u001b[0m                            Traceback (most recent call last)",
      "\u001b[0;32m<ipython-input-24-45488294d951>\u001b[0m in \u001b[0;36m<module>\u001b[0;34m\u001b[0m\n\u001b[1;32m      1\u001b[0m \u001b[0mfl\u001b[0m \u001b[0;34m=\u001b[0m \u001b[0mopen\u001b[0m\u001b[0;34m(\u001b[0m\u001b[0;34m\"test.txt\"\u001b[0m\u001b[0;34m)\u001b[0m\u001b[0;34m.\u001b[0m\u001b[0mread\u001b[0m\u001b[0;34m(\u001b[0m\u001b[0;34m)\u001b[0m\u001b[0;34m\u001b[0m\u001b[0;34m\u001b[0m\u001b[0m\n\u001b[1;32m      2\u001b[0m \u001b[0mprint\u001b[0m\u001b[0;34m(\u001b[0m\u001b[0mfl\u001b[0m\u001b[0;34m)\u001b[0m\u001b[0;34m\u001b[0m\u001b[0;34m\u001b[0m\u001b[0m\n\u001b[0;32m----> 3\u001b[0;31m \u001b[0mcontent\u001b[0m \u001b[0;34m=\u001b[0m \u001b[0mfl\u001b[0m\u001b[0;34m.\u001b[0m\u001b[0mread\u001b[0m\u001b[0;34m(\u001b[0m\u001b[0;34m)\u001b[0m\u001b[0;34m\u001b[0m\u001b[0;34m\u001b[0m\u001b[0m\n\u001b[0m\u001b[1;32m      4\u001b[0m \u001b[0mprint\u001b[0m\u001b[0;34m(\u001b[0m\u001b[0mcontent\u001b[0m\u001b[0;34m)\u001b[0m\u001b[0;34m\u001b[0m\u001b[0;34m\u001b[0m\u001b[0m\n\u001b[1;32m      5\u001b[0m \u001b[0mfl\u001b[0m\u001b[0;34m.\u001b[0m\u001b[0mclose\u001b[0m\u001b[0;34m(\u001b[0m\u001b[0;34m)\u001b[0m\u001b[0;34m\u001b[0m\u001b[0;34m\u001b[0m\u001b[0m\n",
      "\u001b[0;31mAttributeError\u001b[0m: 'str' object has no attribute 'read'"
     ]
    }
   ],
   "source": [
    "fl = open(\"test.txt\").read()\n",
    "print(fl)\n",
    "content = fl.read()\n",
    "print(content)\n",
    "fl.close()"
   ]
  },
  {
   "cell_type": "code",
   "execution_count": 25,
   "metadata": {},
   "outputs": [
    {
     "name": "stdout",
     "output_type": "stream",
     "text": [
      "zapis\n"
     ]
    }
   ],
   "source": [
    "fl = open(\"test.txt\")\n",
    "content = fl.read(5)\n",
    "print(content)\n",
    "fl.close()"
   ]
  },
  {
   "cell_type": "markdown",
   "metadata": {},
   "source": [
    "Czytając plik kawałkami Python wie, gdzie skońćzył i od tego momentu będzie wznawiał czytanie. Chyba, że skończy się plik."
   ]
  },
  {
   "cell_type": "code",
   "execution_count": 26,
   "metadata": {
    "scrolled": true
   },
   "outputs": [
    {
     "name": "stdout",
     "output_type": "stream",
     "text": [
      "zapis\n",
      "\n",
      "zapi\n"
     ]
    }
   ],
   "source": [
    "fl = open(\"test.txt\")\n",
    "content = fl.read(5)\n",
    "print(content)\n",
    "content = fl.read(5)\n",
    "print(content)\n",
    "fl.close()"
   ]
  },
  {
   "cell_type": "markdown",
   "metadata": {},
   "source": [
    "Aby odczytać jedną linię z pliku możemy użyć metody <b>.readline()</b>"
   ]
  },
  {
   "cell_type": "code",
   "execution_count": 27,
   "metadata": {},
   "outputs": [
    {
     "name": "stdout",
     "output_type": "stream",
     "text": [
      "zapis\n",
      "\n"
     ]
    }
   ],
   "source": [
    "fl = open(\"test.txt\")\n",
    "print(fl.readline())\n",
    "fl.close()"
   ]
  },
  {
   "cell_type": "markdown",
   "metadata": {},
   "source": [
    "Dodając opcjonalny parametr, możemy kontrolować ile pierwszych znaków z danej linii chcemy odczytać:"
   ]
  },
  {
   "cell_type": "code",
   "execution_count": 28,
   "metadata": {},
   "outputs": [
    {
     "name": "stdout",
     "output_type": "stream",
     "text": [
      "zapis\n"
     ]
    }
   ],
   "source": [
    "fl = open(\"test.txt\")\n",
    "print(fl.readline(5))\n",
    "fl.close()"
   ]
  },
  {
   "cell_type": "markdown",
   "metadata": {},
   "source": [
    "Aby odczytać wszystkie linie z pliku możemy użyć metody <b> .redlines()</b>"
   ]
  },
  {
   "cell_type": "code",
   "execution_count": 29,
   "metadata": {},
   "outputs": [
    {
     "name": "stdout",
     "output_type": "stream",
     "text": [
      "['zapis\\n', 'zapis2\\n']\n"
     ]
    }
   ],
   "source": [
    "fl = open(\"test.txt\")\n",
    "print(fl.readlines())\n",
    "fl.close()"
   ]
  },
  {
   "cell_type": "markdown",
   "metadata": {},
   "source": [
    "Należe jednak pamiętać, że przy dużych plikach wczytanie całej zawartości jest pomysłem złym i może się skończyć brakiem pamięci, a w konsekwencji powolnie działającym programem, który cząsto się wywala. Jak sobie z tym radzić?"
   ]
  },
  {
   "cell_type": "markdown",
   "metadata": {},
   "source": [
    "Aby odczytać wszystkie linie możemy użyć samego obiektu pliku!"
   ]
  },
  {
   "cell_type": "code",
   "execution_count": 32,
   "metadata": {},
   "outputs": [
    {
     "name": "stdout",
     "output_type": "stream",
     "text": [
      "zapis\n",
      "zapis\n",
      "zapis2\n",
      "zapis2\n"
     ]
    }
   ],
   "source": [
    "fl = open(\"test.txt\")\n",
    "for line in fl:\n",
    "    print(line, end = \"\") #domyślnie print kończy linię \\n. Można to dowolnie nadpisać.\n",
    "    print(line.strip()) #wycina białe znaki z linii\n",
    "fl.close()"
   ]
  },
  {
   "cell_type": "markdown",
   "metadata": {},
   "source": [
    "Zapisywanie do pliku odbywa się przy pomocy metody <b>.write()</b>, ktorej jako parametr przekazujemy string, który chcemy zapisać w pliku. Wymagane jest też określenie odpowiedniego trybu w jakim plik ma zostać otwarty."
   ]
  },
  {
   "cell_type": "code",
   "execution_count": null,
   "metadata": {},
   "outputs": [],
   "source": [
    "fl = open(\"cwiczenia_zapis.txt\", 'w+', encoding=\"utf-8\")\n",
    "fl.write(\"Ala ma kota\")\n",
    "fl.close()"
   ]
  },
  {
   "cell_type": "markdown",
   "metadata": {},
   "source": [
    "Należy zwrócić uwagę na tryb, w którym otwieramy plik do zapisu! Każdy tryb inny niż append spowoduje nadpisanie treści."
   ]
  },
  {
   "cell_type": "markdown",
   "metadata": {},
   "source": [
    "<h2 style=\"color: red\">Zadanie 1</h2>\n",
    "<p>Utwórz plik tekstowy zawierający informację o uczestnikach danego wydarzenia, składający się z czterech kolumn: unikalny identyfikator, Imię, Nazwisko, Data urodzenia. Użytkownik po uruchomieniu programu powinien mieć możliwość dodawania, usuwania oraz modyfikowania rekordów. Zmodyfikowana baza danych powinna byc wczytywana do tego samego pliku, z którego została wczytana.<br>\n",
    "    Dla chętnych:<br>\n",
    "    Zapisuj w obrębie pliku z bazą także poprzednie jej wersje, pozwól użytkownikowi wczytać wersję z konkretnego dnia lub poinformuj że taka wersja nie istnieje.\n",
    "    Dodaj dodatkową opcję - sprawdzanie pełnoletności dla danego użytkownika (użyj modułu datetime)\n",
    "</p>"
   ]
  },
  {
   "cell_type": "code",
   "execution_count": 76,
   "metadata": {},
   "outputs": [
    {
     "ename": "IndentationError",
     "evalue": "expected an indented block (<ipython-input-76-11e7deb7ab32>, line 15)",
     "output_type": "error",
     "traceback": [
      "\u001b[0;36m  File \u001b[0;32m\"<ipython-input-76-11e7deb7ab32>\"\u001b[0;36m, line \u001b[0;32m15\u001b[0m\n\u001b[0;31m    nr = addNewRecord()\u001b[0m\n\u001b[0m     ^\u001b[0m\n\u001b[0;31mIndentationError\u001b[0m\u001b[0;31m:\u001b[0m expected an indented block\n"
     ]
    }
   ],
   "source": [
    "file = open(\"osoby.txt\", \"w+\")\n",
    "lines = f.readlines() #wczytanie wszystkich\n",
    "file.write(\"{}\\t{}\\t{}\\t{}\".format(\"ID\", \"Name\", \"Surname\", \"Birthdate\"))\n",
    "header = [\"ID\", \"Name\", \"Surname\", \"Birthdate\"]\n",
    "\n",
    "def addNewRecord():\n",
    "    newRecord = []\n",
    "    for items in header:\n",
    "        newRecord.append(str(input(\"Please enter {}: \".format(items))))\n",
    "    return list(newRecord)\n",
    "\n",
    "def deleteRecord():\n",
    "    \n",
    "    \n",
    "nr = addNewRecord()\n",
    "\n",
    "file.write(\"\\n{}\\t{}\\t{}\\t{}\".format(nr[0], nr[1], nr[2], nr[3]))\n",
    "\n",
    "file.close()"
   ]
  },
  {
   "cell_type": "code",
   "execution_count": 86,
   "metadata": {},
   "outputs": [],
   "source": [
    "\n",
    "def readFile(path):\n",
    "    uczestnicy = {\n",
    "    \"id\" : [\"Imię\", \"Nazwisko\", \"Data Urodzenia\"]\n",
    "    }\n",
    "    f = open(\"osoby.txt\")\n",
    "    lines = f.readlines()\n",
    "    f.close()\n",
    "    for line in lines:\n",
    "        tab = line.strip().split(\"\\t\")\n",
    "        uczestnicy[tab[0]] = [tab[1], tab[2], tab[3]]\n",
    "    return uczestnicy\n",
    "\n",
    "# def addNewRecord():\n",
    "#         newRecord = []\n",
    "#     for items in header:\n",
    "#         newRecord.append(str(input(\"Please enter {}: \".format(items))))\n",
    "#     return list(newRecord)\n",
    "\n",
    "def addNewRecord():\n",
    "    \n",
    "    for items in range(3):\n",
    "\n",
    "def deleteRecord()\n",
    "\n",
    "    \n",
    "    \n"
   ]
  },
  {
   "cell_type": "code",
   "execution_count": 81,
   "metadata": {},
   "outputs": [
    {
     "ename": "NameError",
     "evalue": "name 'read_file' is not defined",
     "output_type": "error",
     "traceback": [
      "\u001b[0;31m---------------------------------------------------------------------------\u001b[0m",
      "\u001b[0;31mNameError\u001b[0m                                 Traceback (most recent call last)",
      "\u001b[0;32m<ipython-input-81-b5b026e26743>\u001b[0m in \u001b[0;36m<module>\u001b[0;34m\u001b[0m\n\u001b[1;32m     36\u001b[0m             \u001b[0;32mbreak\u001b[0m\u001b[0;34m\u001b[0m\u001b[0;34m\u001b[0m\u001b[0m\n\u001b[1;32m     37\u001b[0m \u001b[0;34m\u001b[0m\u001b[0m\n\u001b[0;32m---> 38\u001b[0;31m \u001b[0mrun\u001b[0m\u001b[0;34m(\u001b[0m\u001b[0;34m)\u001b[0m\u001b[0;34m\u001b[0m\u001b[0;34m\u001b[0m\u001b[0m\n\u001b[0m",
      "\u001b[0;32m<ipython-input-81-b5b026e26743>\u001b[0m in \u001b[0;36mrun\u001b[0;34m()\u001b[0m\n\u001b[1;32m      6\u001b[0m \u001b[0;34m\u001b[0m\u001b[0m\n\u001b[1;32m      7\u001b[0m \u001b[0;32mdef\u001b[0m \u001b[0mrun\u001b[0m\u001b[0;34m(\u001b[0m\u001b[0;34m)\u001b[0m\u001b[0;34m:\u001b[0m\u001b[0;34m\u001b[0m\u001b[0;34m\u001b[0m\u001b[0m\n\u001b[0;32m----> 8\u001b[0;31m     \u001b[0mdictionary\u001b[0m \u001b[0;34m=\u001b[0m \u001b[0mread_file\u001b[0m\u001b[0;34m(\u001b[0m\u001b[0;34m\"osoby.txt\"\u001b[0m\u001b[0;34m)\u001b[0m\u001b[0;34m\u001b[0m\u001b[0;34m\u001b[0m\u001b[0m\n\u001b[0m\u001b[1;32m      9\u001b[0m     \u001b[0;32mwhile\u001b[0m \u001b[0;32mTrue\u001b[0m\u001b[0;34m:\u001b[0m\u001b[0;34m\u001b[0m\u001b[0;34m\u001b[0m\u001b[0m\n\u001b[1;32m     10\u001b[0m         \u001b[0moption\u001b[0m \u001b[0;34m=\u001b[0m \u001b[0minput\u001b[0m\u001b[0;34m(\u001b[0m\u001b[0;34m\"Menu:\\n1 - Pokaż zawartość bazy\\n2 - Modyfikuj po ID\\n3 - Usun po ID\\n4 - Dodaj\\n5 - Zapisz\\n6 - Zamknij\\n\"\u001b[0m\u001b[0;34m)\u001b[0m\u001b[0;34m\u001b[0m\u001b[0;34m\u001b[0m\u001b[0m\n",
      "\u001b[0;31mNameError\u001b[0m: name 'read_file' is not defined"
     ]
    }
   ],
   "source": []
  },
  {
   "cell_type": "markdown",
   "metadata": {},
   "source": [
    "<h2 style=\"color: darkgreen\">Powtórka. Ćwiczenia.</h2>"
   ]
  },
  {
   "cell_type": "code",
   "execution_count": null,
   "metadata": {},
   "outputs": [],
   "source": []
  },
  {
   "cell_type": "code",
   "execution_count": null,
   "metadata": {},
   "outputs": [],
   "source": []
  },
  {
   "cell_type": "code",
   "execution_count": null,
   "metadata": {},
   "outputs": [],
   "source": []
  },
  {
   "cell_type": "markdown",
   "metadata": {},
   "source": [
    "<h2 style=\"color: red\">Zadanie 1</h2>\n",
    "<p>Program prosi użytkownika o wpisanie dowolnego zdania. Naszym zadaniem jest wyświetlenie wszystkich samogłosek występujących w tym zdaniu.<br>\n",
    "    Dla chętnych:<br>\n",
    "    Dodatkowo wypisz, ile razy każda samogłoska występuje we wpisanym zdaniu\n",
    "</p>"
   ]
  },
  {
   "cell_type": "code",
   "execution_count": null,
   "metadata": {},
   "outputs": [],
   "source": []
  },
  {
   "cell_type": "markdown",
   "metadata": {},
   "source": [
    "<h2 style=\"color: red\">Zadanie 2</h2>\n",
    "<p> Rysujemy choinkę! Program powinien zapytać się użytkownika o wysokość choinki a następnie za pomocą spacji i gwiazdek \"narysować\" taką. <br>\n",
    "    PODPOWIEDŹ:<br> - w dolnym wierszu nie ma spacji<br> - w każdym następnym wierszu w górę dochodzi jedna spacja na początku (schodek choinki)<br> - w każdym następnym wierszu są dwie gwiazdki mniej (zastępowane spacją, tworzą schodki)</p> "
   ]
  },
  {
   "cell_type": "code",
   "execution_count": null,
   "metadata": {},
   "outputs": [],
   "source": []
  },
  {
   "cell_type": "code",
   "execution_count": null,
   "metadata": {},
   "outputs": [],
   "source": [
    "books = {    'Alexander Dumas': { \n",
    "       'Trzej Muszkieterowie': {      \n",
    " 'kategoria': 'dramat',     \n",
    "  'ilosc': 6,\n",
    "  'cena': 45 \n",
    " },\n",
    "        'Hrabia Monte Christo': {\n",
    "            'kategoria': 'proza fabularna',\n",
    "            'ilosc': 4,\n",
    "            'cena': 74 \n",
    "       },\n",
    "        'Robin Hood banita': { \n",
    "           'kategoria': 'proza fabularna'\n",
    ",            'ilosc': 1,\n",
    "            'cena': 37\n",
    "        }\n",
    "    },\n",
    "    'Charles Dickens': {\n",
    "        'Oliver Twist': {\n",
    "            'kategoria': 'powiesc',\n",
    "            'ilosc': 10,\n",
    "            'cena': 55\n",
    "        },\n",
    "        'David Copperfield': {\n",
    "            'kategoria': 'powiesc',\n",
    "            'ilosc': 7,\n",
    "            'cena': 42\n",
    "        },\n",
    "        'Wielkie nadzieje': {\n",
    "            'kategoria': 'powiesc',\n",
    "            'ilosc': 3,\n",
    "            'cena': 65\n",
    "        },\n",
    "        'Opowieść o dwóch miastach': {\n",
    "            'kategoria': 'powiesc',\n",
    "            'ilosc': 5,\n",
    "            'cena': 45\n",
    "        }\n",
    "    },\n",
    "    'Ernest Hemingway': {\n",
    "        'Pożegnanie z bronią': {\n",
    "            'kategoria': 'powiesc',\n",
    "            'ilosc': 4,\n",
    "            'cena': 64\n",
    "        },\n",
    "        'Komu bije dzwon': {\n",
    "            'kategoria': 'powiesc',\n",
    "            'ilosc': 6,\n",
    "            'cena': 47\n",
    "        }\n",
    "    },\n",
    "    'Fiodor Dostojewski': {\n",
    "        'Zbrodnia i Kara': {\n",
    "            'kategoria': 'powiesc',\n",
    "            'ilosc': 5,\n",
    "            'cena': 47\n",
    "        },\n",
    "        'Bracia Karamazow': {\n",
    "            'kategoria': 'powiesc',\n",
    "            'ilosc': 3,\n",
    "            'cena': 52\n",
    "        }\n",
    "    },\n",
    "    'George Orwell': {\n",
    "        'Folwark zwierzęcy': {\n",
    "            'kategoria': 'powiesc',\n",
    "            'ilosc': 8,\n",
    "            'cena': 34\n",
    "        }\n",
    "    },\n",
    "    'J.R.R. Tolkien': {\n",
    "        'Hobbit': {\n",
    "            'kategoria': 'powiesc',\n",
    "            'ilosc': 4,\n",
    "            'cena': 45\n",
    "        },\n",
    "        'Władca Pierścieni: Drużyna Pierścienia': {\n",
    "            'kategoria': 'powiesc',\n",
    "            'ilosc': 3,\n",
    "            'cena': 52\n",
    "        },\n",
    "        'Władca Pierścieni: Dwie Wieże': {\n",
    "            'kategoria': 'powiesc',\n",
    "            'ilosc': 7,\n",
    "            'cena': 57\n",
    "        },\n",
    "        'Władca Pierścieni: Powrót Króla': {\n",
    "            'kategoria': 'powiesc',\n",
    "            'ilosc': 6,\n",
    "            'cena': 54\n",
    "        },\n",
    "        'Przygody Toma Bombadila': {\n",
    "            'kategoria': 'poezja',\n",
    "            'ilosc': 1,\n",
    "            'cena': 75\n",
    "        }\n",
    "    }\n",
    "}\n",
    "\n",
    "\n",
    "\n",
    "\n"
   ]
  },
  {
   "cell_type": "markdown",
   "metadata": {},
   "source": [
    "<h2 style=\"color: red\">Zadanie 3</h2>\n",
    "<p>\n",
    "1. Korzystając z metod słownika stwórz listę wszystkich autorów, których mamy w naszej księgarni<br>\n",
    "2. Stwórz listę wszystkich tytułów książek, które mamy w naszej księgarni<br>\n",
    "3. Policz ile aktualnie mamy książek na składzie (‘ilosc’)<br>\n",
    "4. Sprawdź jakiego tytułu mamy najwięcej a jakiego najmniej<br></p>\n"
   ]
  },
  {
   "cell_type": "code",
   "execution_count": null,
   "metadata": {},
   "outputs": [],
   "source": []
  },
  {
   "cell_type": "markdown",
   "metadata": {},
   "source": [
    "<h2 style=\"color: red\">Zadanie 5</h2>\n",
    "<p>Pozwól użytkownikowi wprowadzić dowolną liczbę imion ciągiem (np. jako jeden string rozdzielonych przecinkiem). Następnie powitaj każdą osobę na liście</p>"
   ]
  },
  {
   "cell_type": "code",
   "execution_count": null,
   "metadata": {},
   "outputs": [],
   "source": []
  },
  {
   "cell_type": "markdown",
   "metadata": {},
   "source": [
    "<h2 style=\"color: red\">Zadanie 6</h2>\n",
    "<p>Napisz prosty program, który wykona się zadaną przez użytkownika liczbę razy. Z każdym uruchomieniem pętli wyświetli informacje:<br>\n",
    "– czy liczba jest wielokrotnością 3<br>\n",
    "– czy liczba jest wielkorotnością 4<br>\n",
    "– wyświtli „hurra” jeżeli liczba dzieli się zarówno przez 3 jak i 4<br>\n",
    "– wyświetli gwiazdkę, jeśli żaden z powyższych warunków nie jest spełniony</p>"
   ]
  },
  {
   "cell_type": "code",
   "execution_count": null,
   "metadata": {},
   "outputs": [],
   "source": []
  },
  {
   "cell_type": "markdown",
   "metadata": {},
   "source": [
    "<h2 style=\"color: red\">Zadanie 7</h2>\n",
    "<p>Napisz funkcję, która jako parametr przyjmuje dwie listy i zwraca True, jeśli chociaż jeden element mają wspólny.</p>"
   ]
  },
  {
   "cell_type": "code",
   "execution_count": null,
   "metadata": {},
   "outputs": [],
   "source": []
  },
  {
   "cell_type": "markdown",
   "metadata": {},
   "source": [
    "<h2 style=\"color: red\">Zadanie 8</h2>\n",
    "<p>Napisz program, który wypisze wszystkie różnice między dwoma listami</p>"
   ]
  },
  {
   "cell_type": "code",
   "execution_count": null,
   "metadata": {},
   "outputs": [],
   "source": []
  },
  {
   "cell_type": "markdown",
   "metadata": {},
   "source": [
    "<h2 style=\"color: red\">Zadanie 9</h2>\n",
    "<p>\n",
    "Stwórz funkcję tworzącą raport pokazujący<br>\n",
    "- Średnią ocen<br>\n",
    "- Najgorszą ocenę<br>\n",
    "</p>"
   ]
  },
  {
   "cell_type": "code",
   "execution_count": null,
   "metadata": {},
   "outputs": [],
   "source": []
  },
  {
   "cell_type": "code",
   "execution_count": null,
   "metadata": {},
   "outputs": [],
   "source": []
  }
 ],
 "metadata": {
  "kernelspec": {
   "display_name": "Python 3",
   "language": "python",
   "name": "python3"
  },
  "language_info": {
   "codemirror_mode": {
    "name": "ipython",
    "version": 3
   },
   "file_extension": ".py",
   "mimetype": "text/x-python",
   "name": "python",
   "nbconvert_exporter": "python",
   "pygments_lexer": "ipython3",
   "version": "3.7.1"
  }
 },
 "nbformat": 4,
 "nbformat_minor": 2
}
