{
 "cells": [
  {
   "cell_type": "markdown",
   "metadata": {},
   "source": [
    "<h1 style=\"color: darkgreen\">Podstawy Programowania Obiektowego</h1>\n",
    "<h2>Jan Kosiński</h2><h3>Zakład Biologii Obliczeniowej<br>Uniwersytet im. Adama Mickiewicza w Poznaniu<br>jankos@amu.edu.pl</h3>"
   ]
  },
  {
   "cell_type": "markdown",
   "metadata": {},
   "source": [
    "<p><b>Programowanie obiektowe</b> -  paradygmat programowania, w którym programy definiuje się za pomocą obiektów – elementów łączących stan (czyli dane, nazywane najczęściej polami) i zachowanie (czyli procedury, tu: metody). Obiektowy program komputerowy wyrażony jest jako zbiór takich obiektów, komunikujących się pomiędzy sobą w celu wykonywania zadań.\n",
    "\n",
    "Podejście to różni się od tradycyjnego programowania proceduralnego, gdzie dane i procedury nie są ze sobą bezpośrednio związane. Programowanie obiektowe ma ułatwić pisanie, konserwację i wielokrotne użycie programów lub ich fragmentów.\n",
    "\n",
    "Największym atutem programowania, projektowania oraz analizy obiektowej jest zgodność takiego podejścia z rzeczywistością – mózg ludzki jest w naturalny sposób najlepiej przystosowany do takiego podejścia przy przetwarzaniu informacji. </p>\n",
    "<p style = \"text-align: right;\">https://pl.wikipedia.org/wiki/Programowanie_obiektowe</p>"
   ]
  },
  {
   "cell_type": "markdown",
   "metadata": {},
   "source": [
    "<h2>Klasa a obiekt</h2>\n",
    "\n",
    "<p><b>Klasa</b> - opis obiebktów określonego typu. Zawiera definicje danych przechowywanych przez obiekty (pola) oraz zachowania tychże obiektów</p>\n",
    "\n",
    "<p><b>Obiekt</b> - konkretna instancja klasy</p>"
   ]
  },
  {
   "cell_type": "markdown",
   "metadata": {},
   "source": [
    "<h2 style=\"color: darkgreen\">Przykładowy problem - zoo</h2>\n",
    "<p>Chcemy utowrzyć program zarządzania zoo. Musi on uwzględniać informacje o poszczególnych gatunkach zwierząt, o poszczególnych osobnikach, a także o pracownikach, itp.</p>"
   ]
  },
  {
   "cell_type": "code",
   "execution_count": 1,
   "metadata": {},
   "outputs": [],
   "source": [
    "# zdefiniujmy sobie klasy opisujące poszczególne gatunki zwierząt\n",
    "import datetime # bedziemy uzywac dat\n",
    "\n",
    "#Definicja klasy\n",
    "class Zebra:\n",
    "    imie = \"Płotka\" #pola\n",
    "    plec = \"K\"\n",
    "    wiek = 4\n",
    "    cechy_charakterystyczne = None\n",
    "    przebyte_choroby = None\n",
    "    ostatnie_sprzatanie = None\n",
    "    \n",
    "    \n",
    "    #self -> słowo kluczowe. Odwołanie obiektu do samego siebie\n",
    "    def ustaw_date_sprzatania(self): #metoda\n",
    "        self.ostatnie_sprzatanie = datetime.datetime.now()\n",
    "    \n"
   ]
  },
  {
   "cell_type": "code",
   "execution_count": 2,
   "metadata": {},
   "outputs": [
    {
     "name": "stdout",
     "output_type": "stream",
     "text": [
      "<__main__.Zebra object at 0x106ea5f98>\n",
      "<class '__main__.Zebra'>\n"
     ]
    }
   ],
   "source": [
    "#tworzenie obiketu klasy -> konkretna zebra\n",
    "konkretna_zebra = Zebra()\n",
    "print(konkretna_zebra) # tekstowa reprezentacja obiektu\n",
    "print(type(konkretna_zebra)) # sprawdzanie typu"
   ]
  },
  {
   "cell_type": "code",
   "execution_count": 8,
   "metadata": {},
   "outputs": [
    {
     "name": "stdout",
     "output_type": "stream",
     "text": [
      "Płotka\n",
      "2019-12-02 17:59:58.836385\n",
      "4\n"
     ]
    }
   ],
   "source": [
    "# dostęp do pól\n",
    "print(konkretna_zebra.imie)\n",
    "print(konkretna_zebra.ostatnie_sprzatanie)\n",
    "print(konkretna_zebra.wiek)"
   ]
  },
  {
   "cell_type": "code",
   "execution_count": 6,
   "metadata": {},
   "outputs": [],
   "source": [
    "# wykonywanie metod\n",
    "konkretna_zebra.ustaw_date_sprzatania()"
   ]
  },
  {
   "cell_type": "code",
   "execution_count": 7,
   "metadata": {},
   "outputs": [
    {
     "name": "stdout",
     "output_type": "stream",
     "text": [
      "2019-12-02 17:59:58.836385\n"
     ]
    }
   ],
   "source": [
    "# co sie zmienilo?\n",
    "print(konkretna_zebra.ostatnie_sprzatanie)"
   ]
  },
  {
   "cell_type": "code",
   "execution_count": 9,
   "metadata": {},
   "outputs": [],
   "source": [
    "# co z innymi zebrami? czy każda ma na imie tak samo, jest w tym samym wieku, etc? -> każda klasa moze miec wiele obiketow\n",
    "\n",
    "#Definicja klasy\n",
    "class Zebra:\n",
    "    def __init__(self, _imie, _plec, _wiek): # konstruktor wywolywany w momencie tworzenia obiektu. Wartości pól imie, plec, wiek zostaną określone dopiero w momencie tworzenia obiektu\n",
    "        self.imie = _imie\n",
    "        self.plec = _plec\n",
    "        self.wiek = _wiek\n",
    "        \n",
    "    cechy_charakterystyczne = None # reszta pól może mieć wartości predefiniowane\n",
    "    przebyte_choroby = None\n",
    "    ostatnie_sprzatanie = None\n",
    "    \n",
    "    #self -> słowo kluczowe. Odwołanie obiektu do samego siebie\n",
    "    def ustaw_date_sprzatania(): #metoda\n",
    "        print(\"sadfasf\")\n",
    "        #self.ostatnie_sprzatanie = datetime.datetime.now()\n"
   ]
  },
  {
   "cell_type": "code",
   "execution_count": 15,
   "metadata": {},
   "outputs": [
    {
     "name": "stdout",
     "output_type": "stream",
     "text": [
      "Płotka\n"
     ]
    }
   ],
   "source": [
    "x = Zebra(\"Płotka\", \"K\", 3) # konstruktor domyslny został nadpisany\n",
    "print(x.imie)"
   ]
  },
  {
   "cell_type": "code",
   "execution_count": 16,
   "metadata": {},
   "outputs": [
    {
     "name": "stdout",
     "output_type": "stream",
     "text": [
      "sadfasf\n"
     ]
    }
   ],
   "source": [
    "\n",
    "x = Zebra(\"Konik\", \"M\", 10)\n",
    "y = Zebra(\"Pasiasta\", \"K\", 2)\n",
    "Zebra.ustaw_date_sprzatania()"
   ]
  },
  {
   "cell_type": "code",
   "execution_count": 17,
   "metadata": {},
   "outputs": [
    {
     "name": "stdout",
     "output_type": "stream",
     "text": [
      "Konik\n",
      "Pasiasta\n"
     ]
    }
   ],
   "source": [
    "print(x.imie)\n",
    "print(y.imie)"
   ]
  },
  {
   "cell_type": "code",
   "execution_count": 22,
   "metadata": {},
   "outputs": [
    {
     "name": "stdout",
     "output_type": "stream",
     "text": [
      "Bedi\n"
     ]
    }
   ],
   "source": [
    "z = Zebra(\"Płotka\", \"K\", 6)\n",
    "z.imie = \"Bedi\"\n",
    "print(z.imie)"
   ]
  },
  {
   "cell_type": "code",
   "execution_count": 23,
   "metadata": {},
   "outputs": [],
   "source": [
    "# czy możemy użyć większej liczby konstruktorów? \n",
    "\n",
    "#Definicja klasy\n",
    "class Zebra:\n",
    "    def __init__(self, _imie, _plec, _wiek): # konstruktor wywolywany w momencie tworzenia obiektu. Wartości pól imie, plec, wiek zostaną określone dopiero w momencie tworzenia obiektu\n",
    "        self.imie = _imie\n",
    "        self.plec = _plec\n",
    "        self.wiek = _wiek\n",
    "    \n",
    "    def __init__(self, _plec):\n",
    "        self.imie = \"Nowonarodzona zebra\"\n",
    "        self.plec = _plec\n",
    "        self.wiek = 0\n",
    "        \n",
    "    cechy_charakterystyczne = None # reszta pól może mieć wartości predefiniowane\n",
    "    przebyte_choroby = None\n",
    "    ostatnie_sprzatanie = None\n",
    "    \n",
    "    #self -> słowo kluczowe. Odwołanie obiektu do samego siebie\n",
    "    def ustaw_date_sprzatania(self): #metoda\n",
    "        self.ostatnie_sprzatanie = datetime.datetime.now()\n",
    "\n",
    "        "
   ]
  },
  {
   "cell_type": "code",
   "execution_count": 24,
   "metadata": {},
   "outputs": [
    {
     "ename": "TypeError",
     "evalue": "__init__() takes 2 positional arguments but 4 were given",
     "output_type": "error",
     "traceback": [
      "\u001b[0;31m---------------------------------------------------------------------------\u001b[0m",
      "\u001b[0;31mTypeError\u001b[0m                                 Traceback (most recent call last)",
      "\u001b[0;32m<ipython-input-24-4f7e72f62dfa>\u001b[0m in \u001b[0;36m<module>\u001b[0;34m\u001b[0m\n\u001b[0;32m----> 1\u001b[0;31m \u001b[0mz\u001b[0m \u001b[0;34m=\u001b[0m \u001b[0mZebra\u001b[0m\u001b[0;34m(\u001b[0m\u001b[0;34m\"Zeberka\"\u001b[0m\u001b[0;34m,\u001b[0m \u001b[0;34m\"K\"\u001b[0m\u001b[0;34m,\u001b[0m \u001b[0;36m5\u001b[0m\u001b[0;34m)\u001b[0m\u001b[0;34m\u001b[0m\u001b[0;34m\u001b[0m\u001b[0m\n\u001b[0m\u001b[1;32m      2\u001b[0m \u001b[0mn\u001b[0m \u001b[0;34m=\u001b[0m \u001b[0mZebra\u001b[0m\u001b[0;34m(\u001b[0m\u001b[0;34m\"M\"\u001b[0m\u001b[0;34m)\u001b[0m\u001b[0;34m\u001b[0m\u001b[0;34m\u001b[0m\u001b[0m\n\u001b[1;32m      3\u001b[0m \u001b[0mprint\u001b[0m\u001b[0;34m(\u001b[0m\u001b[0mz\u001b[0m\u001b[0;34m.\u001b[0m\u001b[0mimie\u001b[0m\u001b[0;34m)\u001b[0m\u001b[0;34m\u001b[0m\u001b[0;34m\u001b[0m\u001b[0m\n\u001b[1;32m      4\u001b[0m \u001b[0mprint\u001b[0m\u001b[0;34m(\u001b[0m\u001b[0mn\u001b[0m\u001b[0;34m.\u001b[0m\u001b[0mimie\u001b[0m\u001b[0;34m)\u001b[0m\u001b[0;34m\u001b[0m\u001b[0;34m\u001b[0m\u001b[0m\n",
      "\u001b[0;31mTypeError\u001b[0m: __init__() takes 2 positional arguments but 4 were given"
     ]
    }
   ],
   "source": [
    "z = Zebra(\"Zeberka\", \"K\", 5)\n",
    "n = Zebra(\"M\")\n",
    "print(z.imie)\n",
    "print(n.imie)"
   ]
  },
  {
   "cell_type": "code",
   "execution_count": 14,
   "metadata": {},
   "outputs": [
    {
     "ename": "SyntaxError",
     "evalue": "non-default argument follows default argument (<ipython-input-14-9fbba15b80d2>, line 5)",
     "output_type": "error",
     "traceback": [
      "\u001b[0;36m  File \u001b[0;32m\"<ipython-input-14-9fbba15b80d2>\"\u001b[0;36m, line \u001b[0;32m5\u001b[0m\n\u001b[0;31m    def __init__(self, _imie = \"Nowonarodzona zebra\", _plec, _wiek = 0): # konstruktor wywolywany w momencie tworzenia obiektu. Wartości pól imie, plec, wiek zostaną określone dopiero w momencie tworzenia obiektu\u001b[0m\n\u001b[0m                ^\u001b[0m\n\u001b[0;31mSyntaxError\u001b[0m\u001b[0;31m:\u001b[0m non-default argument follows default argument\n"
     ]
    }
   ],
   "source": [
    "# czy możemy użyć większej liczby konstruktorów?-> Jak sobie z tym radzić?\n",
    "\n",
    "#Definicja klasy\n",
    "class Zebra:\n",
    "    def __init__(self, _imie = \"Nowonarodzona zebra\", _plec, _wiek = 0): # konstruktor wywolywany w momencie tworzenia obiektu. Wartości pól imie, plec, wiek zostaną określone dopiero w momencie tworzenia obiektu\n",
    "        self.imie = _imie\n",
    "        self.plec = _plec\n",
    "        self.wiek = _wiek\n",
    "        \n",
    "    cechy_charakterystyczne = None # reszta pól może mieć wartości predefiniowane\n",
    "    przebyte_choroby = None\n",
    "    ostatnie_sprzatanie = None\n",
    "    \n",
    "    #self -> słowo kluczowe. Odwołanie obiektu do samego siebie\n",
    "    def ustaw_date_sprzatania(self): #metoda\n",
    "        self.ostatnie_sprzatanie = datetime.datetime.now()\n"
   ]
  },
  {
   "cell_type": "code",
   "execution_count": 25,
   "metadata": {},
   "outputs": [],
   "source": [
    "# czy możemy użyć większej liczby konstruktorów?-> Jak sobie z tym radzić? -> Wartości domyślne!!!\n",
    "\n",
    "#Definicja klasy\n",
    "class Zebra:\n",
    "    def __init__(self, _plec, _imie = \"Nowonarodzona zebra\", _wiek = 0): # konstruktor wywolywany w momencie tworzenia obiektu. Wartości pól imie, plec, wiek zostaną określone dopiero w momencie tworzenia obiektu\n",
    "        self.imie = _imie\n",
    "        self.plec = _plec\n",
    "        self.wiek = _wiek\n",
    "        \n",
    "    cechy_charakterystyczne = None # reszta pól może mieć wartości predefiniowane\n",
    "    przebyte_choroby = None\n",
    "    ostatnie_sprzatanie = None\n",
    "    \n",
    "    #self -> słowo kluczowe. Odwołanie obiektu do samego siebie\n",
    "    def ustaw_date_sprzatania(self): #metoda\n",
    "        self.ostatnie_sprzatanie = datetime.datetime.now()"
   ]
  },
  {
   "cell_type": "code",
   "execution_count": 17,
   "metadata": {},
   "outputs": [
    {
     "name": "stdout",
     "output_type": "stream",
     "text": [
      "Zeberka\n",
      "Nowonarodzona zebra\n"
     ]
    }
   ],
   "source": [
    "z = Zebra(_plec = \"K\", _imie = \"Zeberka\", _wiek = 5)\n",
    "n = Zebra(\"M\")\n",
    "print(z.imie)\n",
    "print(n.imie)"
   ]
  },
  {
   "cell_type": "markdown",
   "metadata": {},
   "source": [
    "<h2 style=\"color: darkgreen\">Reprezentacja obiektów</h2>"
   ]
  },
  {
   "cell_type": "code",
   "execution_count": 19,
   "metadata": {},
   "outputs": [
    {
     "name": "stdout",
     "output_type": "stream",
     "text": [
      "<__main__.Zebra object at 0x7f251c4b0470>\n"
     ]
    }
   ],
   "source": [
    "print(z)"
   ]
  },
  {
   "cell_type": "code",
   "execution_count": 18,
   "metadata": {},
   "outputs": [],
   "source": [
    "#Definicja klasy\n",
    "class Zebra:\n",
    "    \"W ten sposób można zamieścić dokumentację\"\n",
    "    def __init__(self, _imie, _plec, _wiek): # konstruktor wywolywany w momencie tworzenia obiektu. Wartości pól imie, plec, wiek zostaną określone dopiero w momencie tworzenia obiektu\n",
    "        self.imie = _imie\n",
    "        self.plec = _plec\n",
    "        self.wiek = _wiek\n",
    "        \n",
    "    cechy_charakterystyczne = None # reszta pól może mieć wartości predefiniowane\n",
    "    przebyte_choroby = None\n",
    "    ostatnie_sprzatanie = None\n",
    "    \n",
    "    def __str__(self): # przeciążenie metody __str__\n",
    "        return \"Zebra \" + self.imie\n",
    "        \n",
    "    \n",
    "    #self -> słowo kluczowe. Odwołanie obiektu do samego siebie\n",
    "    def ustaw_date_sprzatania(self): #metoda\n",
    "        self.ostatnie_sprzatanie = datetime.datetime.now()"
   ]
  },
  {
   "cell_type": "code",
   "execution_count": 19,
   "metadata": {},
   "outputs": [
    {
     "name": "stdout",
     "output_type": "stream",
     "text": [
      "Zebra Zeberka\n"
     ]
    }
   ],
   "source": [
    "z = Zebra(\"Zeberka\", \"K\", 5)\n",
    "print(z)"
   ]
  },
  {
   "cell_type": "code",
   "execution_count": 30,
   "metadata": {},
   "outputs": [],
   "source": [
    "#Definicja klasy\n",
    "class Zebra:\n",
    "    def __init__(self, _imie, _plec, _wiek): # konstruktor wywolywany w momencie tworzenia obiektu. Wartości pól imie, plec, wiek zostaną określone dopiero w momencie tworzenia obiektu\n",
    "        self.imie = _imie\n",
    "        self.plec = _plec\n",
    "        self.wiek = _wiek\n",
    "        \n",
    "    cechy_charakterystyczne = None # reszta pól może mieć wartości predefiniowane\n",
    "    przebyte_choroby = None\n",
    "    ostatnie_sprzatanie = None\n",
    "    \n",
    "    def __str__(self): # przeciążenie metody __str__\n",
    "        return \"zebra o imieniu {} mająca {} lat, plec {p}\".format(self.imie, self.wiek, p = self.plec) # ładniejszy sposób na formatowanie ciągów znaków\n",
    "        \n",
    "    \n",
    "    #self -> słowo kluczowe. Odwołanie obiektu do samego siebie\n",
    "    def ustaw_date_sprzatania(self): #metoda\n",
    "        self.ostatnie_sprzatanie = datetime.datetime.now()"
   ]
  },
  {
   "cell_type": "code",
   "execution_count": 31,
   "metadata": {
    "scrolled": true
   },
   "outputs": [
    {
     "name": "stdout",
     "output_type": "stream",
     "text": [
      "zebra o imieniu Zeberka mająca 5 lat, plec K\n"
     ]
    }
   ],
   "source": [
    "z = Zebra(\"Zeberka\", \"K\", 5)\n",
    "print(z)"
   ]
  },
  {
   "cell_type": "markdown",
   "metadata": {},
   "source": [
    "<h2 style=\"color: darkgreen\">Zadanie 1</h2>\n",
    "<p>Dodaj do klasy zebra pola, które będą przechowywać informację o ojcu i matce Zebry. Domyślne wartości powinny zostać ustawione na wartość \"Brak danych\". Napisz funkcję <b>krzyżuj</b>, która jako argument będzie przyjmować dwa obiekty typu Zebra, sprawdzi czy mamy do czynienia z odrębną płci i jeżeli tak zwróci losową liczbę (max 10) małych zebr w formie dowolnej kolekcji (każda powinna zachować informację o matce i ojcu). W celu wygenerowania wartości losowych wykorzystaj moduł random i funkcję randint</p>\n",
    "\n",
    "<p>random.randint(a, b)<br>\n",
    "Zwraca pseudolosową liczbę całkowitą N dla której spełniony jest warunek a <= N <= b.</p>"
   ]
  },
  {
   "cell_type": "code",
   "execution_count": 78,
   "metadata": {},
   "outputs": [
    {
     "ename": "ModuleNotFoundError",
     "evalue": "No module named 'names'",
     "output_type": "error",
     "traceback": [
      "\u001b[0;31m---------------------------------------------------------------------------\u001b[0m",
      "\u001b[0;31mModuleNotFoundError\u001b[0m                       Traceback (most recent call last)",
      "\u001b[0;32m<ipython-input-78-5bb95e044120>\u001b[0m in \u001b[0;36m<module>\u001b[0;34m\u001b[0m\n\u001b[1;32m      1\u001b[0m \u001b[0;32mimport\u001b[0m \u001b[0mrandom\u001b[0m\u001b[0;34m\u001b[0m\u001b[0;34m\u001b[0m\u001b[0m\n\u001b[0;32m----> 2\u001b[0;31m \u001b[0;32mimport\u001b[0m \u001b[0mnames\u001b[0m\u001b[0;34m\u001b[0m\u001b[0;34m\u001b[0m\u001b[0m\n\u001b[0m\u001b[1;32m      3\u001b[0m \u001b[0;34m\u001b[0m\u001b[0m\n\u001b[1;32m      4\u001b[0m \u001b[0;32mclass\u001b[0m \u001b[0mZebra\u001b[0m\u001b[0;34m:\u001b[0m\u001b[0;34m\u001b[0m\u001b[0;34m\u001b[0m\u001b[0m\n\u001b[1;32m      5\u001b[0m     \u001b[0;32mdef\u001b[0m \u001b[0m__init__\u001b[0m\u001b[0;34m(\u001b[0m\u001b[0mself\u001b[0m\u001b[0;34m,\u001b[0m \u001b[0m_imie\u001b[0m\u001b[0;34m,\u001b[0m \u001b[0m_plec\u001b[0m\u001b[0;34m,\u001b[0m \u001b[0m_wiek\u001b[0m\u001b[0;34m,\u001b[0m \u001b[0m_imie_matki\u001b[0m \u001b[0;34m=\u001b[0m \u001b[0;32mNone\u001b[0m\u001b[0;34m,\u001b[0m \u001b[0m_imie_ojca\u001b[0m \u001b[0;34m=\u001b[0m \u001b[0;32mNone\u001b[0m\u001b[0;34m)\u001b[0m\u001b[0;34m:\u001b[0m\u001b[0;34m\u001b[0m\u001b[0;34m\u001b[0m\u001b[0m\n",
      "\u001b[0;31mModuleNotFoundError\u001b[0m: No module named 'names'"
     ]
    }
   ],
   "source": [
    "import random\n",
    "\n",
    "\n",
    "class Zebra:\n",
    "    def __init__(self, _imie, _plec, _wiek, _imie_matki = None, _imie_ojca = None):\n",
    "        self.imie = _imie\n",
    "        self.plec = _plec\n",
    "        self.wiek = _wiek\n",
    "        self.imie_matki = _imie_matki\n",
    "        self.imie_ojca = _imie_ojca\n",
    "        \n",
    "    def __str__(self):\n",
    "        return(\"Zebra {}, wiek {}, płeć {}, imię matki: {}, imię ojca {}\".format(self.imie, self.wiek, self.plec, self.imie_matki, self.imie_ojca))\n",
    "\n",
    "    cechy_charakterystyczne = None\n",
    "    przebyte_choroby = None\n",
    "    ostatnie_sprzatanie = None\n",
    "    \n",
    "    def __repr__(self):\n",
    "        return(\"Zebra {}, wiek {}, płeć {}, imię matki: {}, imię ojca {}\\n\".format(self.imie, self.wiek, self.plec, self.imie_matki, self.imie_ojca))\n",
    "\n",
    "\n",
    "    \n",
    "def krzyżuj(imie1, plec1, wiek1, imie2, plec2, wiek2):\n",
    "    x = Zebra(imie1, plec1, wiek1)\n",
    "    y = Zebra(imie2, plec2, wiek2)\n",
    "    listaZeber = []\n",
    "    \n",
    "    if x.plec != y.plec:\n",
    "        ile = random.randint(1,10)\n",
    "        i = 0\n",
    "        while(i < ile):\n",
    "            listaZeber.append(Zebra(_imie = \"nowonarodzona zebra\", _plec = random.choice([\"M\",\"K\"]), _wiek = 0, _imie_matki = x.imie, _imie_ojca = y.imie))\n",
    "            i += 1\n",
    "    else:\n",
    "        print(\"Nie możesz skrzyżować zeber tej samej płci\")\n",
    "        \n",
    "    print(listaZeber)\n",
    "    \n",
    "krzyżuj(\"Ada\", \"K\", 10, \"Bonifacy\", \"M\", 7)\n",
    "\n",
    "        "
   ]
  },
  {
   "cell_type": "markdown",
   "metadata": {},
   "source": [
    "<h2 style=\"color: darkgreen\">Zadanie 2</h2>\n",
    "<p>Zdefiniuj wewnątrz klasy metodę __mul__, która wykona operację zdefiniowaną wewnątrz klasy krzyżuj</p>\n",
    "\n",
    "<p>https://docs.python.org/2/library/operator.html</p>"
   ]
  },
  {
   "cell_type": "code",
   "execution_count": 95,
   "metadata": {},
   "outputs": [
    {
     "ename": "TypeError",
     "evalue": "can't multiply sequence by non-int of type 'Zebra'",
     "output_type": "error",
     "traceback": [
      "\u001b[0;31m---------------------------------------------------------------------------\u001b[0m",
      "\u001b[0;31mTypeError\u001b[0m                                 Traceback (most recent call last)",
      "\u001b[0;32m<ipython-input-95-8199962369ab>\u001b[0m in \u001b[0;36m<module>\u001b[0;34m\u001b[0m\n\u001b[1;32m     38\u001b[0m \u001b[0mx\u001b[0m \u001b[0;34m*\u001b[0m \u001b[0my\u001b[0m\u001b[0;34m\u001b[0m\u001b[0;34m\u001b[0m\u001b[0m\n\u001b[1;32m     39\u001b[0m \u001b[0;34m\u001b[0m\u001b[0m\n\u001b[0;32m---> 40\u001b[0;31m \u001b[0mx\u001b[0m \u001b[0;34m*\u001b[0m \u001b[0my\u001b[0m \u001b[0;34m*\u001b[0m \u001b[0mz\u001b[0m\u001b[0;34m\u001b[0m\u001b[0;34m\u001b[0m\u001b[0m\n\u001b[0m",
      "\u001b[0;31mTypeError\u001b[0m: can't multiply sequence by non-int of type 'Zebra'"
     ]
    }
   ],
   "source": [
    "class Zebra:\n",
    "    def __init__(self, _imie, _plec, _wiek, _imie_matki = None, _imie_ojca = None):\n",
    "        self.imie = _imie\n",
    "        self.plec = _plec\n",
    "        self.wiek = _wiek\n",
    "        self.imie_matki = _imie_matki\n",
    "        self.imie_ojca = _imie_ojca\n",
    "        \n",
    "    def __str__(self):\n",
    "        return(\"Zebra {}, wiek {}, płeć {}, imię matki: {}, imię ojca {}\".format(self.imie, self.wiek, self.plec, self.imie_matki, self.imie_ojca))\n",
    "\n",
    "    cechy_charakterystyczne = None\n",
    "    przebyte_choroby = None\n",
    "    ostatnie_sprzatanie = None\n",
    "    \n",
    "    def __repr__(self):\n",
    "        return(\"Zebra {}, wiek {}, płeć {}, imię matki: {}, imię ojca {}\\n\".format(self.imie, self.wiek, self.plec, self.imie_matki, self.imie_ojca))\n",
    "\n",
    "    def __mul__(x, y):\n",
    "#         x = Zebra(imie1, plec1, wiek1)\n",
    "#         y = Zebra(imie2, plec2, wiek2)\n",
    "        listaZeber = []\n",
    "    \n",
    "        if x.plec != y.plec:\n",
    "            ile = random.randint(1,10)\n",
    "            i = 0\n",
    "            while(i < ile):\n",
    "                listaZeber.append(Zebra(_imie = \"nowonarodzona zebra\", _plec = random.choice([\"M\",\"K\"]), _wiek = 0, _imie_matki = x.imie, _imie_ojca = y.imie))\n",
    "                i += 1\n",
    "        else:\n",
    "            print(\"Nie możesz skrzyżować zeber tej samej płci\")\n",
    "\n",
    "        return(listaZeber)\n",
    "        \n",
    "x = Zebra(\"Ada\",\"f\",5)\n",
    "y = Zebra(\"Damian\", \"m\", 6)\n",
    "# Zebra.__mul__(x,y)\n",
    "x * y\n",
    "        \n"
   ]
  },
  {
   "cell_type": "markdown",
   "metadata": {},
   "source": [
    "<h2 style=\"color: darkgreen\">Zadanie 3</h2>\n",
    "<p>Dodaj metodę __repr__ o takiej samej zawartości jak __str__. Co się zmieniło?</p>"
   ]
  },
  {
   "cell_type": "markdown",
   "metadata": {},
   "source": [
    "<h2 style=\"color: darkgreen\">Zadanie 4</h2>\n",
    "<p>Stwórz samodzielnie klasy kwadrat, prostokąt i kolo. Zaimplementuj w obrebie tych klas metody liczące pola i OBWODY tych figur</p>"
   ]
  },
  {
   "cell_type": "code",
   "execution_count": null,
   "metadata": {
    "scrolled": true
   },
   "outputs": [],
   "source": []
  },
  {
   "cell_type": "code",
   "execution_count": null,
   "metadata": {},
   "outputs": [],
   "source": []
  },
  {
   "cell_type": "markdown",
   "metadata": {},
   "source": [
    "<h2 style=\"color: darkgreen\">Zadanie 5</h2>\n",
    "<p>Stwórz samodzielnie klasę liczba zespolona. Każda liczba zespolona <i>z</i> składa się z części rzeczysistej <i>r</i> i urojonej <i>u</i>. Każda z tych części jest reprezentowana przez liczbę rzeczywistą. Dodaj metody, które będą w stanie wykonywać działania dodawania i odejmowania liczb zespolonych (wykorzystaj przeciążanie operatorów), zwracać cześć rzeczywistą i zespoloną liczby (razem 4 metody).</p>"
   ]
  },
  {
   "cell_type": "code",
   "execution_count": 2,
   "metadata": {},
   "outputs": [],
   "source": [
    "# %load solutions/zad1.py\n"
   ]
  },
  {
   "cell_type": "code",
   "execution_count": 36,
   "metadata": {},
   "outputs": [],
   "source": [
    "# %load solutions/zad2.py"
   ]
  },
  {
   "cell_type": "code",
   "execution_count": 37,
   "metadata": {},
   "outputs": [],
   "source": [
    "# %load solutions/zad3.py"
   ]
  },
  {
   "cell_type": "code",
   "execution_count": null,
   "metadata": {},
   "outputs": [],
   "source": [
    "# %load solutions/zad5.py"
   ]
  },
  {
   "cell_type": "code",
   "execution_count": 3,
   "metadata": {},
   "outputs": [],
   "source": [
    "# %load solutions/zad5.py"
   ]
  },
  {
   "cell_type": "markdown",
   "metadata": {},
   "source": [
    "<h2 style=\"color: darkgreen\">Dziedziczenie</h2>\n",
    "<p>Dziedziczenie to proces rozwijania klasy już istniejącej. Metody i pola obecne w klasie z której dziedziczymy (klasa bazowa) będą dostępne również w obrębie klasy, która dziediczy.</p>\n",
    "<p>Polimorfizm to sytuacja, w której klasy posiadają zestaw wspólnych pól i metod. Nierozerwalnie wiąże się z dziedziczeniem.</p>"
   ]
  },
  {
   "cell_type": "code",
   "execution_count": 4,
   "metadata": {},
   "outputs": [],
   "source": [
    "class Samochod: # klasa bazowa\n",
    "    def __init__(self, marka, rocznik, silnik):\n",
    "        self.marka = marka\n",
    "        self.rocznik = rocznik\n",
    "        self.silnik = silnik\n",
    "    \n",
    "    def __str__(self):\n",
    "        return \"{marka} rocznik {rok} z silnikiem {paliwo}\".format(rok = self.rocznik, marka = self.marka, paliwo = self.silnik)\n",
    "    \n",
    "    def jazda(self):\n",
    "        print(\"brum brum brum\")\n",
    "\n",
    "class SamochodCiezarowy(Samochod): \n",
    "    def __init__(self, marka, rocznik, silnik, pojemnosc):\n",
    "        self.marka = marka\n",
    "        self.rocznik = rocznik\n",
    "        self.silnik = silnik\n",
    "        self.pojemnosc = pojemnosc\n",
    "        \n",
    "class Limuzyna(Samochod):\n",
    "    ekskluzywne_auto = True # pole statyczne -> niezależne od obiektu tylko od klasy\n",
    "    \n",
    "    def jazda(self):\n",
    "        print(\"shhhhhhhhhh\")\n",
    "        \n",
    "class Fiat126p(Samochod):\n",
    "    marka = \"Fiat\"\n",
    "    silnik = \"Benzyna\"\n",
    "    def __init__(self, rocznik):\n",
    "        self.rocznik = rocznik\n",
    "    def jazda(self):\n",
    "        print(\"buf buf buf buf\")\n",
    "    \n",
    "    \n",
    "samochod = Samochod(\"Mercedes\", 2019, \"Diesel\")\n",
    "x = Samochod(\"Mercedes\", 2019, \"Diesel\")\n",
    "samochod_ciezarowy = SamochodCiezarowy(\"Mercedes\", 2019, \"Diesel\", 3.5)\n",
    "limuzyna = Limuzyna(\"Lincoln\", 2019, \"Benzyna\")\n",
    "fiat = Fiat126p(1994)"
   ]
  },
  {
   "cell_type": "code",
   "execution_count": 5,
   "metadata": {},
   "outputs": [],
   "source": [
    "a = \"Mercedes\"\n",
    "auta = []\n",
    "for x in range(1, 1000000):\n",
    "    auta.append(Samochod(a, 2019, \"Diesel\"))"
   ]
  },
  {
   "cell_type": "code",
   "execution_count": null,
   "metadata": {},
   "outputs": [],
   "source": []
  },
  {
   "cell_type": "code",
   "execution_count": 3,
   "metadata": {},
   "outputs": [
    {
     "data": {
      "text/plain": [
       "'Mercedes'"
      ]
     },
     "execution_count": 3,
     "metadata": {},
     "output_type": "execute_result"
    }
   ],
   "source": [
    "samochod.__dict__['marka']"
   ]
  },
  {
   "cell_type": "code",
   "execution_count": 61,
   "metadata": {},
   "outputs": [
    {
     "data": {
      "text/plain": [
       "{'marka': 'Mercedes', 'rocznik': 2019, 'silnik': 'Diesel', 'pojemnosc': 3.5}"
      ]
     },
     "execution_count": 61,
     "metadata": {},
     "output_type": "execute_result"
    }
   ],
   "source": [
    "samochod_ciezarowy.__dict__"
   ]
  },
  {
   "cell_type": "code",
   "execution_count": 62,
   "metadata": {},
   "outputs": [
    {
     "data": {
      "text/plain": [
       "{'marka': 'Lincoln', 'rocznik': 2019, 'silnik': 'Benzyna'}"
      ]
     },
     "execution_count": 62,
     "metadata": {},
     "output_type": "execute_result"
    }
   ],
   "source": [
    "limuzyna.__dict__"
   ]
  },
  {
   "cell_type": "code",
   "execution_count": 63,
   "metadata": {},
   "outputs": [
    {
     "data": {
      "text/plain": [
       "{'rocznik': 1994}"
      ]
     },
     "execution_count": 63,
     "metadata": {},
     "output_type": "execute_result"
    }
   ],
   "source": [
    "fiat.__dict__"
   ]
  },
  {
   "cell_type": "code",
   "execution_count": 64,
   "metadata": {},
   "outputs": [
    {
     "data": {
      "text/plain": [
       "True"
      ]
     },
     "execution_count": 64,
     "metadata": {},
     "output_type": "execute_result"
    }
   ],
   "source": [
    "limuzyna.ekskluzywne_auto"
   ]
  },
  {
   "cell_type": "code",
   "execution_count": 65,
   "metadata": {},
   "outputs": [
    {
     "name": "stdout",
     "output_type": "stream",
     "text": [
      "shhhhhhhhhh\n"
     ]
    }
   ],
   "source": [
    "limuzyna.jazda()"
   ]
  },
  {
   "cell_type": "code",
   "execution_count": 66,
   "metadata": {},
   "outputs": [
    {
     "name": "stdout",
     "output_type": "stream",
     "text": [
      "brum brum brum\n"
     ]
    }
   ],
   "source": [
    "samochod_ciezarowy.jazda()"
   ]
  },
  {
   "cell_type": "code",
   "execution_count": 67,
   "metadata": {},
   "outputs": [
    {
     "name": "stdout",
     "output_type": "stream",
     "text": [
      "buf buf buf buf\n"
     ]
    }
   ],
   "source": [
    "fiat.jazda()"
   ]
  },
  {
   "cell_type": "code",
   "execution_count": 68,
   "metadata": {},
   "outputs": [
    {
     "name": "stdout",
     "output_type": "stream",
     "text": [
      "Lincoln rocznik 2019 z silnikiem Benzyna\n"
     ]
    }
   ],
   "source": [
    "print(limuzyna)"
   ]
  },
  {
   "cell_type": "code",
   "execution_count": 69,
   "metadata": {},
   "outputs": [],
   "source": [
    "class Samochod: # klasa bazowa\n",
    "    def __init__(self, marka, rocznik, silnik):\n",
    "        self.marka = marka\n",
    "        self.rocznik = rocznik\n",
    "        self.silnik = silnik\n",
    "    \n",
    "    def __str__(self):\n",
    "        return \"{marka} rocznik {rok} z silnikiem {paliwo}\".format(rok = self.rocznik, marka = self.marka, paliwo = self.silnik)\n",
    "\n",
    "class SamochodCiezarowy(Samochod): \n",
    "    def __init__(self, marka, rocznik, silnik, pojemnosc):\n",
    "        self.marka = marka\n",
    "        self.rocznik = rocznik\n",
    "        self.silnik = silnik\n",
    "        self.pojemnosc = pojemnosc\n",
    "        \n",
    "    def jazda(self): # definiujemy metodę dopiero w klasie, która dziedziczy\n",
    "        print(\"brum brum brum\")"
   ]
  },
  {
   "cell_type": "code",
   "execution_count": 70,
   "metadata": {},
   "outputs": [],
   "source": [
    "samochod = Samochod(\"Mercedes\", 2019, \"Diesel\")\n",
    "samochod_ciezarowy = SamochodCiezarowy(\"Mercedes\", 2019, \"Diesel\", 3.5)\n"
   ]
  },
  {
   "cell_type": "code",
   "execution_count": 71,
   "metadata": {},
   "outputs": [
    {
     "name": "stdout",
     "output_type": "stream",
     "text": [
      "brum brum brum\n"
     ]
    }
   ],
   "source": [
    "samochod_ciezarowy.jazda()"
   ]
  },
  {
   "cell_type": "code",
   "execution_count": 72,
   "metadata": {},
   "outputs": [
    {
     "ename": "AttributeError",
     "evalue": "'Samochod' object has no attribute 'jazda'",
     "output_type": "error",
     "traceback": [
      "\u001b[0;31m---------------------------------------------------------------------------\u001b[0m",
      "\u001b[0;31mAttributeError\u001b[0m                            Traceback (most recent call last)",
      "\u001b[0;32m<ipython-input-72-5f03770e6fd6>\u001b[0m in \u001b[0;36m<module>\u001b[0;34m()\u001b[0m\n\u001b[0;32m----> 1\u001b[0;31m \u001b[0msamochod\u001b[0m\u001b[0;34m.\u001b[0m\u001b[0mjazda\u001b[0m\u001b[0;34m(\u001b[0m\u001b[0;34m)\u001b[0m\u001b[0;34m\u001b[0m\u001b[0;34m\u001b[0m\u001b[0m\n\u001b[0m",
      "\u001b[0;31mAttributeError\u001b[0m: 'Samochod' object has no attribute 'jazda'"
     ]
    }
   ],
   "source": [
    "samochod.jazda()"
   ]
  },
  {
   "cell_type": "code",
   "execution_count": 75,
   "metadata": {},
   "outputs": [],
   "source": [
    "# czy możliwe jest dziedziczenie z więcej niż jednej klasy?\n",
    "\n",
    "class KlasaBazowa1:\n",
    "    def who_am_i(self):\n",
    "        print(\"Klasa Bazowa 1\")\n",
    "\n",
    "    def hello(self):\n",
    "        print(\"Hi!\")\n",
    "        \n",
    "class KlasaBazowa2:\n",
    "    def who_am_i(self):\n",
    "        print(\"Klasa Bazowa 2\")\n",
    "        \n",
    "    def hi(self):\n",
    "        print(\"Hello!\")\n",
    "        \n",
    "class Klasa(KlasaBazowa1, KlasaBazowa2):\n",
    "    pass"
   ]
  },
  {
   "cell_type": "code",
   "execution_count": 76,
   "metadata": {},
   "outputs": [
    {
     "name": "stdout",
     "output_type": "stream",
     "text": [
      "Klasa Bazowa 1\n"
     ]
    }
   ],
   "source": [
    "klasa = Klasa()\n",
    "klasa.who_am_i() # co sie wyswietli? -> kolejność przeszukiwania!!!!"
   ]
  },
  {
   "cell_type": "code",
   "execution_count": 77,
   "metadata": {},
   "outputs": [
    {
     "name": "stdout",
     "output_type": "stream",
     "text": [
      "Hello!\n"
     ]
    }
   ],
   "source": [
    "klasa.hi()"
   ]
  },
  {
   "cell_type": "code",
   "execution_count": 78,
   "metadata": {},
   "outputs": [
    {
     "name": "stdout",
     "output_type": "stream",
     "text": [
      "Hi!\n"
     ]
    }
   ],
   "source": [
    "klasa.hello()"
   ]
  },
  {
   "cell_type": "code",
   "execution_count": 81,
   "metadata": {},
   "outputs": [
    {
     "name": "stdout",
     "output_type": "stream",
     "text": [
      "Hi!\n"
     ]
    }
   ],
   "source": [
    "# co jezeli chcemy wywolac metode z klasy bazowej?\n",
    "class KlasaBazowa1:\n",
    "    def who_am_i(self):\n",
    "        print(\"Klasa Bazowa 1\")\n",
    "\n",
    "    def hello(self):\n",
    "        print(\"Hi!\")\n",
    "        \n",
    "class Klasa(KlasaBazowa1, KlasaBazowa2):\n",
    "    def hello(self):\n",
    "        print(\"Hi there!\")\n",
    "    \n",
    "    def hi(self):\n",
    "        super(Klasa, self).hello()\n",
    "        \n",
    "klasa = Klasa()\n",
    "klasa.hi()"
   ]
  },
  {
   "cell_type": "code",
   "execution_count": 4,
   "metadata": {},
   "outputs": [
    {
     "name": "stdout",
     "output_type": "stream",
     "text": [
      "bazowa\n"
     ]
    },
    {
     "ename": "AttributeError",
     "evalue": "'Klasa' object has no attribute '__test'",
     "output_type": "error",
     "traceback": [
      "\u001b[0;31m---------------------------------------------------------------------------\u001b[0m",
      "\u001b[0;31mAttributeError\u001b[0m                            Traceback (most recent call last)",
      "\u001b[0;32m<ipython-input-4-98e1efca3185>\u001b[0m in \u001b[0;36m<module>\u001b[0;34m()\u001b[0m\n\u001b[1;32m      9\u001b[0m \u001b[0mklasa\u001b[0m \u001b[0;34m=\u001b[0m \u001b[0mKlasa\u001b[0m\u001b[0;34m(\u001b[0m\u001b[0;34m)\u001b[0m\u001b[0;34m\u001b[0m\u001b[0m\n\u001b[1;32m     10\u001b[0m \u001b[0mprint\u001b[0m\u001b[0;34m(\u001b[0m\u001b[0mklasa\u001b[0m\u001b[0;34m.\u001b[0m\u001b[0m_KlasaBazowa1__test\u001b[0m\u001b[0;34m)\u001b[0m\u001b[0;34m\u001b[0m\u001b[0m\n\u001b[0;32m---> 11\u001b[0;31m \u001b[0mprint\u001b[0m\u001b[0;34m(\u001b[0m\u001b[0mklasa\u001b[0m\u001b[0;34m.\u001b[0m\u001b[0m__test\u001b[0m\u001b[0;34m)\u001b[0m\u001b[0;34m\u001b[0m\u001b[0m\n\u001b[0m",
      "\u001b[0;31mAttributeError\u001b[0m: 'Klasa' object has no attribute '__test'"
     ]
    }
   ],
   "source": [
    "# co jezeli nie chcemy nadpisac istniejacych juz pol\n",
    "\n",
    "class KlasaBazowa1:\n",
    "    __test = \"bazowa\" # __test zostanie automatycznie zamienione na _KlasaBazowa1__test\n",
    "        \n",
    "class Klasa(KlasaBazowa1):\n",
    "    __test = \"potomna\"\n",
    "        \n",
    "klasa = Klasa()\n",
    "print(klasa._KlasaBazowa1__test)\n",
    "print(klasa.__test)\n"
   ]
  },
  {
   "cell_type": "code",
   "execution_count": null,
   "metadata": {},
   "outputs": [],
   "source": []
  }
 ],
 "metadata": {
  "kernelspec": {
   "display_name": "Python 3",
   "language": "python",
   "name": "python3"
  },
  "language_info": {
   "codemirror_mode": {
    "name": "ipython",
    "version": 3
   },
   "file_extension": ".py",
   "mimetype": "text/x-python",
   "name": "python",
   "nbconvert_exporter": "python",
   "pygments_lexer": "ipython3",
   "version": "3.7.1"
  }
 },
 "nbformat": 4,
 "nbformat_minor": 2
}
