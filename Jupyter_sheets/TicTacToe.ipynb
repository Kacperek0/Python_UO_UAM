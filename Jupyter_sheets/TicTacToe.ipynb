{
 "cells": [
  {
   "cell_type": "code",
   "execution_count": null,
   "metadata": {},
   "outputs": [],
   "source": [
    "# Tic Tac Toe na podstawie https://github.com/Cledersonbc/tic-tac-toe-minimax/blob/master/py_version/minimax.py"
   ]
  },
  {
   "cell_type": "code",
   "execution_count": 21,
   "metadata": {},
   "outputs": [],
   "source": [
    "HUMAN = -1 # mamy dwóch graczy -> komputer i użytkownik. Takie wartości będziemy wstawiali na naszą planszę żeby rozróżnić graczy\n",
    "AI = 1\n",
    "board = [ [0, 0, 0], [0, 0, 0], [0, 0, 0] ] # mamy także planszę 3x3. Na początku wypełiona zerami\n",
    "\n"
   ]
  },
  {
   "cell_type": "markdown",
   "metadata": {},
   "source": [
    "<h2>Zadanie 1</h2>\n",
    "<p>Napisz funkcję <i>wins</i>, która będzie przyjmować dwa argumenty i sprawdzać czy aktualny stan planszy wskazuje na zwycięztwo danego z zawodników. Przyjmowane argumenty to kolejno aktualny stan planszy oraz informację o tym dla którego z graczy sprawdzamy zwycięstwo. Jeżeli określony gracz wygrywa funkcja powinna zwrócić wartość True, w przeciwnym razie False.</p>"
   ]
  },
  {
   "cell_type": "code",
   "execution_count": 22,
   "metadata": {},
   "outputs": [],
   "source": [
    "# %load TicTacToe/zad1.py"
   ]
  },
  {
   "cell_type": "markdown",
   "metadata": {},
   "source": [
    "<h2>Zadanie 2</h2>\n",
    "<p>Napisz funkcję <i>evaluate</i>, która będzie przyjmować jeden argument - aktualny stan planszy - i sprawdzać czy mamy do czynienia ze zwycięztwem komputera, gracza czy remisem (będzie uruchamiana dopiero gdy nastąpi koniec gry). Gdy zwycięża komputer funkcja powinna zwrócić wartość 1, jeżeli gracz to -1 i 0 w przypadku remisu. Można wykorzystać funckję <i>wins</i>.</p>"
   ]
  },
  {
   "cell_type": "code",
   "execution_count": 23,
   "metadata": {},
   "outputs": [],
   "source": [
    "# %load TicTacToe/zad2.py"
   ]
  },
  {
   "cell_type": "markdown",
   "metadata": {},
   "source": [
    "<h2>Zadanie 3</h2>\n",
    "<p>Napisz funkcję <i>game_over</i>, która będzie przyjmować jeden argument - aktualny stan planszy - i sprawdzać czy  nastąpił koniec gry poprzez wsytąpienie 3 równych symboli w linii lub po przekątnej (wykorzystaj funkcję <i>wins</i>). Powinna zwrócić wartość True jeżeli tak się stało lub False w przeciwnym wypadku.</p>"
   ]
  },
  {
   "cell_type": "code",
   "execution_count": 24,
   "metadata": {},
   "outputs": [],
   "source": [
    "# %load TicTacToe/zad3.py"
   ]
  },
  {
   "cell_type": "markdown",
   "metadata": {},
   "source": [
    "<h2>Zadanie 4</h2>\n",
    "<p>Napisz funkcję <i>find_empty_cells</i>, która będzie przyjmować jeden argument - aktualny stan planszy - i zwracać listę pustych komórek na planszy (wypełnionych zerami). Każda pusta komórka powinna zostać opisana przy pomocy listy współrzędnych [x,y], gdzie x i y przyjmują wartości 0,1,2. Jeżeli nie ma pustych komórek funkcja powinna zwrócić pustą listę.</p>"
   ]
  },
  {
   "cell_type": "code",
   "execution_count": 25,
   "metadata": {},
   "outputs": [],
   "source": [
    "# %load TicTacToe/zad4.py"
   ]
  },
  {
   "cell_type": "markdown",
   "metadata": {},
   "source": [
    "<h2>Zadanie 5</h2>\n",
    "<p>Napisz funkcję <i>valid_move</i>, która będzie przyjmować dwa argumenty opisujące współrzędne x i y. Funkcja ma za zadanie sprawdzać czy ruch na pole o podanych współrzędnych jest możliwy (zwracamy True) lub nie (False). Wykorzystaj funkcję <i>find_empty_cells</i></p>"
   ]
  },
  {
   "cell_type": "code",
   "execution_count": 26,
   "metadata": {},
   "outputs": [],
   "source": [
    "# %load TicTacToe/zad5.py"
   ]
  },
  {
   "cell_type": "markdown",
   "metadata": {},
   "source": [
    "<h2>Zadanie 6</h2>\n",
    "<p>Napisz funkcję <i>move</i>, która będzie przyjmować trzy argumenty - dwa opisujące współrzędne x i y i jeden informujący o tym który gracz wykonuje ruch. Funkcja ma za zadanie wstawić wartość odpowiadającą określnonemu graczowi na pole określone podanymi współrzędnymi - jeżeli taki ruch jest możliwy (zwracamy True i umieszczamy odpowiednią wartość na planszy). Jeżeli ruch nie jest możliwy zwracamy wartość False i nie wykonujemy ruchu.</p>"
   ]
  },
  {
   "cell_type": "code",
   "execution_count": 27,
   "metadata": {},
   "outputs": [],
   "source": [
    "# %load TicTacToe/zad6.py"
   ]
  },
  {
   "cell_type": "markdown",
   "metadata": {},
   "source": [
    "<h2>Algorytm minmax</h2>\n",
    "![title](minmax.png)"
   ]
  },
  {
   "cell_type": "markdown",
   "metadata": {},
   "source": [
    "<h2>Zadanie 7</h2>\n",
    "<p>Napisz funkcję <i>minmax</i>, która będzie przyjmować trzy argumenty - aktualny stan planszy, liczbę pustych pól (depth) oraz informację o wykonującym ruch. Funkcja będzie zawierać implementację algorytmu minmax. Wartość zwracana przez funkcję to lista opisująca najlepszy możliwy ruch do wykonania na planszy przez danego gracza w formacie [x, y, score], gdzie score przyjmuje następujące wartości -> 1 - komputer, -1 - człowiek, 0 - remis. Zainicjalizuj tą listę wartościami początkowymi [-1, -1, +/-infinity (wykorzystaj moduł math)] i przypisz do zmiennej <i>best</i>. Jeżeli gra się zakończyła (brak pustych pól lub trzy równe symbole pod rząd) to funkcja oblicza wartość score przy pomocy funkcji <i>evaluate</i> i zwraca wartość [-1, -1, score]. Jeżeli nie to funkcja dla każdej pustej komórki na planszy symuluje wykonanie ruchu i oblicza wartość score poprzez rekurencyjne wykonanie funkcji minmax. Jeżeli wartość funckji celu jest lepsza od dotychczasowej najepszej (best) nadpisz wartość zmiennej best przy pomocy wyniku funkcji minmax oraz informacji o współrzędnych najlepszego ruchu. Zwróć wartość zmiennej <i>best</i></p>"
   ]
  },
  {
   "cell_type": "code",
   "execution_count": 28,
   "metadata": {},
   "outputs": [],
   "source": [
    "# %load TicTacToe/zad7.py"
   ]
  },
  {
   "cell_type": "code",
   "execution_count": 29,
   "metadata": {},
   "outputs": [],
   "source": [
    "def render(current_board):\n",
    "    \"\"\"Wyświetla aktualną planszę.\n",
    "    Dla prostoty zakładamy, że AI zawsze gra X, a użytkownik O.\n",
    "    :param current_board: aktualna plansza\n",
    "    \"\"\"\n",
    "    # słownik symboli\n",
    "    chars = {\n",
    "        -1: 'O',\n",
    "        +1: 'X',\n",
    "        0: ' '\n",
    "    }\n",
    "    str_line = '---------------'\n",
    "\n",
    "    print('\\n' + str_line)\n",
    "    for row in current_board:\n",
    "        for cell in row:\n",
    "            symbol = chars[cell]\n",
    "            print('| {} |'.format(symbol), end='')\n",
    "        print('\\n' + str_line)\n"
   ]
  },
  {
   "cell_type": "markdown",
   "metadata": {},
   "source": [
    "<h2>Zadanie 8</h2>\n",
    "<p>Napisz funkcję <i>ai_turn</i>, która będzie wykonywać ruch komputera. Jeżeli nie ma pustych pól na planszy lub nastąpił koniec gry funkcja powinna zwracać wartość None. Jeżeli żadne pole nie jest wypełnione to ruch powinien być wykonywany losowo. W przeciwnym razie ruch powinien być wykonywany na pole wybrane przy pomocy algorytmu <i>minmax</i>. Wykorzystaj funckję <i>render</i> do wyświetlenia planszy.</p>"
   ]
  },
  {
   "cell_type": "code",
   "execution_count": 30,
   "metadata": {},
   "outputs": [],
   "source": [
    "# %load TicTacToe/zad8.py"
   ]
  },
  {
   "cell_type": "markdown",
   "metadata": {},
   "source": [
    "<h2>Zadanie 9</h2>\n",
    "<p>Napisz funkcję <i>human_turn</i>, która będzie wykonywać ruch użytkownika. Użytkownik powinien podawać numer pola z klawiatury (od 1 do 9). Należy sprawdzić czy ruch na wybrane pole jest możliwy, jeżeli nie - użytkownik powinien zostać poinformaowany i powinien móc wybrać pole ponownie.</p>"
   ]
  },
  {
   "cell_type": "code",
   "execution_count": 31,
   "metadata": {},
   "outputs": [],
   "source": [
    "# %load TicTacToe/zad9.py"
   ]
  },
  {
   "cell_type": "markdown",
   "metadata": {},
   "source": [
    "<h2>Zadanie 10</h2>\n",
    "<p>Uruchom grę</p>"
   ]
  },
  {
   "cell_type": "code",
   "execution_count": 32,
   "metadata": {},
   "outputs": [],
   "source": [
    "HUMAN = -1 # mamy dwóch graczy -> komputer i użytkownik. Takie wartości będziemy wstawiali na naszą planszę żeby rozróżnić graczy\n",
    "AI = 1\n",
    "board = [ [0, 0, 0], [0, 0, 0], [0, 0, 0] ] # mamy także planszę 3x3"
   ]
  },
  {
   "cell_type": "code",
   "execution_count": 33,
   "metadata": {},
   "outputs": [
    {
     "name": "stdout",
     "output_type": "stream",
     "text": [
      "Computer: \n",
      "\n",
      "---------------\n",
      "| X ||   ||   |\n",
      "---------------\n",
      "|   ||   ||   |\n",
      "---------------\n",
      "|   ||   ||   |\n",
      "---------------\n",
      "Your turn: \n",
      "Wybierz numer pola z zakresu (1..9): 5\n",
      "Computer: \n",
      "\n",
      "---------------\n",
      "| X || X ||   |\n",
      "---------------\n",
      "|   || O ||   |\n",
      "---------------\n",
      "|   ||   ||   |\n",
      "---------------\n",
      "Your turn: \n",
      "Wybierz numer pola z zakresu (1..9): 3\n",
      "Computer: \n",
      "\n",
      "---------------\n",
      "| X || X || O |\n",
      "---------------\n",
      "|   || O ||   |\n",
      "---------------\n",
      "| X ||   ||   |\n",
      "---------------\n",
      "Your turn: \n",
      "Wybierz numer pola z zakresu (1..9): 4\n",
      "Computer: \n",
      "\n",
      "---------------\n",
      "| X || X || O |\n",
      "---------------\n",
      "| O || O || X |\n",
      "---------------\n",
      "| X ||   ||   |\n",
      "---------------\n",
      "Your turn: \n",
      "Wybierz numer pola z zakresu (1..9): 8\n",
      "Computer: \n",
      "\n",
      "---------------\n",
      "| X || X || O |\n",
      "---------------\n",
      "| O || O || X |\n",
      "---------------\n",
      "| X || O || X |\n",
      "---------------\n"
     ]
    }
   ],
   "source": [
    "# %load TicTacToe/zad10.py"
   ]
  }
 ],
 "metadata": {
  "kernelspec": {
   "display_name": "Python 3",
   "language": "python",
   "name": "python3"
  },
  "language_info": {
   "codemirror_mode": {
    "name": "ipython",
    "version": 3
   },
   "file_extension": ".py",
   "mimetype": "text/x-python",
   "name": "python",
   "nbconvert_exporter": "python",
   "pygments_lexer": "ipython3",
   "version": "3.7.1"
  }
 },
 "nbformat": 4,
 "nbformat_minor": 2
}
